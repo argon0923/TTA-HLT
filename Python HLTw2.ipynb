{
 "cells": [
  {
   "cell_type": "code",
   "execution_count": 1,
   "metadata": {},
   "outputs": [
    {
     "name": "stdout",
     "output_type": "stream",
     "text": [
      "1. Boil water\n",
      "2. Put tea bag in mug\n",
      "3. Brew for two or three minutes\n",
      "4. Add sugar\n",
      "5. Pour the milk, stir and drink\n"
     ]
    }
   ],
   "source": [
    "#Flow diagram converted into code\n",
    "# Hot to make a cup of tea\n",
    "print(\"1. Boil water\")\n",
    "print(\"2. Put tea bag in mug\")\n",
    "print(\"3. Brew for two or three minutes\")\n",
    "\n",
    "sugar = input(\"Do you take it with sugar?\")\n",
    "if sugar == (\"yes\"):\n",
    "   print(\"4. Add sugar\")\n",
    "if sugar == (\"no\"):\n",
    "   print(\"4. Without sugar\")\n",
    "   \n",
    "milk = input (\"Do you like it with milk?\")\n",
    "if milk == (\"yes\"):\n",
    "   print(\"5. Pour the milk, stir and drink\")   \n",
    "if milk == (\"no\"):\n",
    "   print(\"5. I like it black, with no milk\")"
   ]
  },
  {
   "cell_type": "code",
   "execution_count": 2,
   "metadata": {},
   "outputs": [],
   "source": [
    "#Week 1 task 4 extension\n",
    "def function1():\n",
    "   bikeValue = int(2000)\n",
    "   while bikeValue > 1000:\n",
    "      print(\"£\" , bikeValue)\n",
    "      bikeValue = bikeValue * 0.9"
   ]
  },
  {
   "cell_type": "code",
   "execution_count": 3,
   "metadata": {},
   "outputs": [
    {
     "name": "stdout",
     "output_type": "stream",
     "text": [
      "£ 2000\n",
      "£ 1800.0\n",
      "£ 1620.0\n",
      "£ 1458.0\n",
      "£ 1312.2\n",
      "£ 1180.98\n",
      "£ 1062.882\n"
     ]
    }
   ],
   "source": [
    "function1()"
   ]
  },
  {
   "cell_type": "code",
   "execution_count": 4,
   "metadata": {},
   "outputs": [],
   "source": [
    "#Week 1 task 5 extension\n",
    "def procedure1():\n",
    "   numberA = int(input(\"Pick a random number\"))\n",
    "   numberB = int(input(\"Pick another random number\"))\n",
    "   operator = input(\"Now please choose an operator to apply with your chosen numbers\")\n",
    "   if operator == (\"+\"):\n",
    "      print(numberA + numberB)\n",
    "   elif operator == (\"-\"):\n",
    "      print(numberA - numberB) \n",
    "   elif operator == (\"*\"):\n",
    "      print(numberA * numberB)\n",
    "   elif operator == (\"**\"):    \n",
    "      print(numberA ** numberB)\n",
    "   elif operator == (\"%\"):\n",
    "      print(numberA % numberB) \n",
    "   else:\n",
    "      print(\"You have chosen the wrong operator\") \n",
    "      \n"
   ]
  },
  {
   "cell_type": "code",
   "execution_count": 5,
   "metadata": {},
   "outputs": [
    {
     "name": "stdout",
     "output_type": "stream",
     "text": [
      "45\n"
     ]
    }
   ],
   "source": [
    "procedure1()"
   ]
  },
  {
   "cell_type": "code",
   "execution_count": 6,
   "metadata": {},
   "outputs": [],
   "source": [
    "#Task 1 Thursday 03/02/22\n",
    "\n",
    "numbers = [3, 45, 83, 21]\n",
    "letters = [\"w\", \"r\", \"a\"]"
   ]
  },
  {
   "cell_type": "code",
   "execution_count": 7,
   "metadata": {},
   "outputs": [],
   "source": [
    "#Task 2 Thursday 03/02/22\n",
    "\n",
    "percentage = int(input(\"What is your percentage mark?\"))\n",
    "\n",
    "\n",
    "def mark_grade():\n",
    "    if (percentage < 50):\n",
    "       print(\"Grade D, FAIL\")\n",
    "    elif(percentage >= 50) and (percentage < 70):\n",
    "       print(\"Grade C\")\n",
    "    elif(percentage >= 70) and (percentage < 90):\n",
    "       print(\"Grade B\")\n",
    "    elif(percentage >= 90) and (percentage <= 100):\n",
    "       print(\"Grade A\")\n",
    "       "
   ]
  },
  {
   "cell_type": "code",
   "execution_count": 8,
   "metadata": {},
   "outputs": [
    {
     "name": "stdout",
     "output_type": "stream",
     "text": [
      "Grade A\n"
     ]
    }
   ],
   "source": [
    "mark_grade()"
   ]
  },
  {
   "cell_type": "code",
   "execution_count": 9,
   "metadata": {},
   "outputs": [
    {
     "name": "stdout",
     "output_type": "stream",
     "text": [
      "My target grade is C my exam grade is A\n"
     ]
    }
   ],
   "source": [
    "#Extension to task 2 03/02/22\n",
    "\n",
    "target_grade = (input(\"What's your target grade?\"))\n",
    "print(\"My target grade is\", target_grade,\"my exam grade is A\") \n",
    "# I couldn't find how to insert the function() output into the print command. I inserted mark_grade() :/\n"
   ]
  },
  {
   "cell_type": "code",
   "execution_count": 22,
   "metadata": {},
   "outputs": [
    {
     "name": "stdout",
     "output_type": "stream",
     "text": [
      "You've worked your socks off\n"
     ]
    }
   ],
   "source": [
    "# For if statements, we are converting grades to numbers A = 1, B = 2, C = 3, D = 4\n",
    "\n",
    "target = 3\n",
    "mark = 1\n",
    "\n",
    "if (target == mark):\n",
    "    print(\"You leave nothing to luck\")\n",
    "elif (target < mark):\n",
    "    print(\"What went wrong?\")  \n",
    "elif (target > mark):\n",
    "    print(\"You've worked your socks off\")"
   ]
  }
 ],
 "metadata": {
  "interpreter": {
   "hash": "fb0827b2594094c4b871b80b984545230a54159e0890412fc259bcfbfd075f58"
  },
  "kernelspec": {
   "display_name": "Python 3.10.2 64-bit",
   "language": "python",
   "name": "python3"
  },
  "language_info": {
   "codemirror_mode": {
    "name": "ipython",
    "version": 3
   },
   "file_extension": ".py",
   "mimetype": "text/x-python",
   "name": "python",
   "nbconvert_exporter": "python",
   "pygments_lexer": "ipython3",
   "version": "3.10.2"
  },
  "orig_nbformat": 4
 },
 "nbformat": 4,
 "nbformat_minor": 2
}
