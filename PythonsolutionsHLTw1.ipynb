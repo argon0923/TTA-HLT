{
 "cells": [
  {
   "cell_type": "code",
   "execution_count": null,
   "metadata": {},
   "outputs": [],
   "source": [
    "#TASK 1\n",
    "import random\n",
    "number = random.randint(1,10)\n",
    "userName = input(\"What's your name?:\")\n",
    "guess = int(input(userName + \" guess a number between 1 and 10\"))\n",
    "\n",
    "if guess == number:\n",
    "   print(\"You are a lucky person\" + userName)\n",
    "else:\n",
    "   print(\"Wrong number, \" + userName + \", better luck next time.\")"
   ]
  },
  {
   "cell_type": "code",
   "execution_count": null,
   "metadata": {},
   "outputs": [],
   "source": [
    "#TASK 2\n",
    "number = int(input(\"What's your favourite number between 1 and 100?\"))\n",
    "if (number <= 33):\n",
    "    print(\"There are three types of people in this world, those who can code and those who can't.\")\n",
    "elif (number > 33) and (number < 67):\n",
    "    print(\"My pet is 3,14 metres long. It's a python.\")\n",
    "elif (number >= 67) and (number <= 100):\n",
    "    print(\"Why did number 2 and 0 split up? Some one came between them.\")\n"
   ]
  },
  {
   "cell_type": "code",
   "execution_count": null,
   "metadata": {},
   "outputs": [],
   "source": [
    "#TASK 3\n",
    "starter = input(\"What's your favourite starter?\")\n",
    "main = input(\"What's your favourite main?\")\n",
    "dessert = input(\"What's your favourite dessert?\")\n",
    "drink = input(\"What's your favourite drink\")\n",
    "print(\"Your favourite meal is a\", starter, \"and\" , main, \"finished with a\" , dessert, \"with a\", drink, \"to drink.\")"
   ]
  },
  {
   "cell_type": "code",
   "execution_count": null,
   "metadata": {},
   "outputs": [],
   "source": [
    "#TASK 4\n",
    "bikeValue = int(2000)\n",
    "while bikeValue > 1000:\n",
    "    print(\"£\" , bikeValue)\n",
    "    bikeValue = bikeValue * 0.9"
   ]
  },
  {
   "cell_type": "code",
   "execution_count": null,
   "metadata": {},
   "outputs": [],
   "source": [
    "#Task 5\n",
    "numberA = int(input(\"Pick a random number\"))\n",
    "numberB = int(input(\"Pick another random number\"))\n",
    "operator = input(\"Now please choose an operator to apply with your chosen numbers\")\n",
    "if operator == (\"+\"):\n",
    "    print(numberA + numberB)\n",
    "elif operator == (\"-\"):\n",
    "    print(numberA - numberB) \n",
    "elif operator == (\"*\"):\n",
    "    print(numberA * numberB)\n",
    "elif operator == (\"**\"):    \n",
    "    print(numberA ** numberB)\n",
    "elif operator == (\"%\"):\n",
    "    print(numberA % numberB) \n",
    "else:\n",
    "    print(\"You have chosen the wrong operator\") "
   ]
  },
  {
   "cell_type": "code",
   "execution_count": null,
   "metadata": {},
   "outputs": [],
   "source": [
    "#Flow diagram converted into code\n",
    "print(\"Boil water\")\n",
    "print(\"Put tea bag in mug\")\n",
    "print(\"Brew for two or three minutes\")\n",
    "\n",
    "sugar = input(\"Do you take it with sugar?\")\n",
    "if sugar == (\"yes\"):\n",
    "   print(\"Add sugar\")\n",
    "if sugar == (\"no\"):\n",
    "   print(\"Without sugar\")\n",
    "   \n",
    "milk = input (\"Do you like it with milk?\")\n",
    "if milk == (\"yes\"):\n",
    "   print(\"Pour the milk, stir and drink\")   \n",
    "if milk == (\"no\"):\n",
    "   print(\"I like it black, with no milk\")"
   ]
  },
  {
   "cell_type": "code",
   "execution_count": null,
   "metadata": {},
   "outputs": [],
   "source": []
  }
 ],
 "metadata": {
  "interpreter": {
   "hash": "fb0827b2594094c4b871b80b984545230a54159e0890412fc259bcfbfd075f58"
  },
  "kernelspec": {
   "display_name": "Python 3.10.2 64-bit",
   "language": "python",
   "name": "python3"
  },
  "language_info": {
   "codemirror_mode": {
    "name": "ipython",
    "version": 3
   },
   "file_extension": ".py",
   "mimetype": "text/x-python",
   "name": "python",
   "nbconvert_exporter": "python",
   "pygments_lexer": "ipython3",
   "version": "3.10.2"
  },
  "orig_nbformat": 4
 },
 "nbformat": 4,
 "nbformat_minor": 2
}
