{
 "cells": [
  {
   "cell_type": "code",
   "execution_count": null,
   "metadata": {},
   "outputs": [],
   "source": [
    "%pip install NumPy\n",
    "\n",
    "import numpy as np"
   ]
  },
  {
   "cell_type": "code",
   "execution_count": null,
   "metadata": {},
   "outputs": [],
   "source": [
    "#NumPy\n",
    "\n",
    "# Task 1\n",
    "array = np.arange(10)\n",
    "print(array)"
   ]
  },
  {
   "cell_type": "code",
   "execution_count": null,
   "metadata": {},
   "outputs": [],
   "source": [
    "# Task 2\n",
    "boolArr = np.ones(9, dtype=bool)\n",
    "newArray = boolArr.reshape(3, 3)\n",
    "print(newArray)"
   ]
  },
  {
   "cell_type": "code",
   "execution_count": null,
   "metadata": {},
   "outputs": [],
   "source": [
    "# Task 3\n",
    "oddArray = np.arange(10)\n",
    "print(oddArray[oddArray % 2 == 1])\n"
   ]
  },
  {
   "cell_type": "code",
   "execution_count": null,
   "metadata": {},
   "outputs": [],
   "source": [
    "# Task 4\n",
    "replaceArray = np.arange(10)\n",
    "replaceArray[replaceArray % 2 == 1] = -1\n",
    "print(replaceArray)"
   ]
  },
  {
   "cell_type": "code",
   "execution_count": null,
   "metadata": {},
   "outputs": [],
   "source": [
    "# Task 5\n",
    "oneD = np.arange(10)\n",
    "twoD = oneD.reshape(2,5)\n",
    "print(twoD)"
   ]
  },
  {
   "cell_type": "code",
   "execution_count": null,
   "metadata": {},
   "outputs": [],
   "source": [
    "# Task 6\n",
    "a = np.array([[1], [2], [3], [4], [5]])\n",
    "b = np.array([[6], [7], [8], [9], [10]])\n",
    "c = np.vstack((a,b))\n",
    "print(c)"
   ]
  },
  {
   "cell_type": "code",
   "execution_count": null,
   "metadata": {},
   "outputs": [],
   "source": [
    "a = np.array([1, 2, 3, 4, 5])\n",
    "b = np.array([6, 7, 8, 9, 10]) \n",
    "product = np.dot(a, b)\n",
    "print(output)\n"
   ]
  },
  {
   "cell_type": "code",
   "execution_count": null,
   "metadata": {},
   "outputs": [],
   "source": [
    "s = np.arange(1,10)\n",
    "total_sum = np.sum(s)\n",
    "print(total_sum)\n"
   ]
  },
  {
   "cell_type": "code",
   "execution_count": null,
   "metadata": {},
   "outputs": [],
   "source": [
    "# Pandas\n",
    "%pip install pandas\n"
   ]
  },
  {
   "cell_type": "code",
   "execution_count": null,
   "metadata": {},
   "outputs": [],
   "source": [
    "import pandas as pd"
   ]
  },
  {
   "cell_type": "code",
   "execution_count": null,
   "metadata": {},
   "outputs": [],
   "source": [
    "# Task 1\n",
    "travel = pd.read_csv(\"Pandas.csv\")\n",
    "travel.shape"
   ]
  },
  {
   "cell_type": "code",
   "execution_count": null,
   "metadata": {},
   "outputs": [],
   "source": [
    "# Task 2\n",
    "travel = pd.read_csv(\"Pandas.csv\")\n",
    "print(travel.iloc[2:8])"
   ]
  },
  {
   "cell_type": "code",
   "execution_count": null,
   "metadata": {},
   "outputs": [],
   "source": [
    "travel = pd.read_csv(\"Pandas.csv\", index_col = \"Destination\")\n",
    "print(travel.loc[[\"Brazil\", \"Greece\", \"Thailand\", \"Egypt\", \"Morocco\", \"Mexico\"]])"
   ]
  },
  {
   "cell_type": "code",
   "execution_count": null,
   "metadata": {},
   "outputs": [],
   "source": [
    "# Task 3\n",
    "travel = pd.read_csv(\"Pandas.csv\")\n",
    "travel[\"All inclusive\"].mean()"
   ]
  },
  {
   "cell_type": "code",
   "execution_count": null,
   "metadata": {},
   "outputs": [],
   "source": [
    "# Task 4\n",
    "myfilter = travel[\"Feedback\"] < 3\n",
    "lowestscore = travel[myfilter]\n",
    "lowestscore.head\n"
   ]
  },
  {
   "cell_type": "code",
   "execution_count": null,
   "metadata": {},
   "outputs": [],
   "source": [
    "# Task 5\n",
    "myfilter = travel[\"Feedback\"] > 3\n",
    "highestscore = travel[myfilter]\n",
    "highestscore.head"
   ]
  },
  {
   "cell_type": "code",
   "execution_count": null,
   "metadata": {},
   "outputs": [],
   "source": [
    "# Task 6\n",
    "myfilter = travel[\"All inclusive\"] > 9\n",
    "allinclusive = travel[myfilter]\n",
    "allinclusive.head\n"
   ]
  },
  {
   "cell_type": "code",
   "execution_count": null,
   "metadata": {},
   "outputs": [],
   "source": [
    "# Task 7\n",
    "myfilter = travel[\"Feedback\"] > 7\n",
    "highestscore = travel[myfilter]\n",
    "highestscore.head\n",
    "\n"
   ]
  },
  {
   "cell_type": "code",
   "execution_count": null,
   "metadata": {},
   "outputs": [],
   "source": [
    "# Task 8\n",
    "myfilter = travel[\"Feedback\"] < 2\n",
    "highestscore = travel[myfilter]\n",
    "highestscore.head\n"
   ]
  }
 ],
 "metadata": {
  "interpreter": {
   "hash": "fb0827b2594094c4b871b80b984545230a54159e0890412fc259bcfbfd075f58"
  },
  "kernelspec": {
   "display_name": "Python 3.10.2 64-bit",
   "language": "python",
   "name": "python3"
  },
  "language_info": {
   "codemirror_mode": {
    "name": "ipython",
    "version": 3
   },
   "file_extension": ".py",
   "mimetype": "text/x-python",
   "name": "python",
   "nbconvert_exporter": "python",
   "pygments_lexer": "ipython3",
   "version": "3.10.2"
  },
  "orig_nbformat": 4
 },
 "nbformat": 4,
 "nbformat_minor": 2
}
